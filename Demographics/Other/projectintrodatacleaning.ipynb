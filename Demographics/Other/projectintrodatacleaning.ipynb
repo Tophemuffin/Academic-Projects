{
 "cells": [
  {
   "cell_type": "markdown",
   "metadata": {},
   "source": [
    "<font size=\"5\">**Project: Demographics**"
   ]
  },
  {
   "cell_type": "markdown",
   "metadata": {
    "heading_collapsed": true
   },
   "source": [
    "## Introduction\n",
    "\n",
    "For most of human history, fertility rates have remained high—well above the 2.1 children per woman needed for replacement. Families were large. This is because, in times where demanding agricultural work was the norm, so too was childhood mortality. The more children a family had, the more likely it was that one or more would survive. However, as education and technology have increased, an interesting demographic phenomenon has emerged. The growth of education and technology has coincided with a decline in family sizes and fertility rates well below the replacement rate. Japan has a fertility rate of 1.39 children per woman, the U.S. 1.84, and Spain 1.29. By contrast, countries like Niger, Angola, and the DRC have fertility rates of 6.73, 5.76, and 5.56, respectively. That is an astonishing difference. It is something not limited to just European or Western countries but also countries like Japan and Taiwan. What is causing this, and why? What could this mean for the future? Such a colossal demographic change could have far-reaching consequences.\n",
    "\n",
    "In 1979, the People’s Republic of China introduced the infamous One-Child Policy. Now, China has started experiencing the consequences of the so-called demographic transition. Most noticeably, the population pyramid has inverted. A once growing and young population is now dying and aging. Already, this has become noticeable in the United States. A glance at the population growth rate shows a plateauing curve, while the average age continues to climb. Still, why should we care? Health insurance premiums and health related expenses could quickly outpace incomes. Social Security, the delicately financed house of cards that it is, could collapse and leave tens of millions of senior citizens and disabled Americans without any support. Moreover, fewer workers might mean higher wages, but also less specialized labor and less access to vital services. Perhaps most importantly, shrinking and altogether disappearing families could have the direst consequences as support systems fall apart and an already atomized society loses its last institution."
   ]
  },
  {
   "cell_type": "markdown",
   "metadata": {},
   "source": [
    "## Research questions\n",
    "\n",
    "How do developmental demogrpahics correlate with GDP Growth?\n",
    "    \n",
    "   -Is life exeptancy more correlated with GDP Growth than fertility rate?\n",
    "   \n",
    "   -Is literacy more correlated with GDP Growth than age dependency?\n",
    "   \n",
    "     "
   ]
  },
  {
   "cell_type": "markdown",
   "metadata": {},
   "source": [
    "## Data\n",
    "\n",
    "The raw data for this project come from the World Bank, at [https://databank.worldbank.org/source/world-development-indicators/](https://databank.worldbank.org/source/world-development-indicators/).\n",
    "\n",
    "It contains the following variables ..."
   ]
  },
  {
   "cell_type": "markdown",
   "metadata": {},
   "source": [
    "| **Variable**              | **Definition**                                                                                                                                                           | **Units**                             |\n",
    "|---------------------------|--------------------------------------------------------------------------------------------------------------------------------------------------------------------------|---------------------------------------|\n",
    "| Age Dependency Ratio      | The ratio of dependents--people younger than 15 or older than 64--to the working-age population--those ages 15-64                                                        | Dependents/100 Working-Age Population |\n",
    "| Fertility Rate            | The average number of children born to a woman over her lifetime.                                                                                                        | Children/Woman                        |\n",
    "| GDP Growth                | The average annual rate of change of the GDP in a given economy over one year.                                                                                           | % of Previous Year's GDP              |\n",
    "| Life Expectancy           | The average period of years that a person in a given country may expect to live.                                                                                         | Years                                 |\n",
    "| Primary School Enrollment | The number of children of official primary school age who are enrolled in primary education as a percentage of the total children of the official school age population. | % of School Age Population            |\n",
    "| Literacy Rate             | The proportion of the adult population aged 15 years and over which is literate, expressed as a percentage of the corresponding population.                              | % of Total Population                 |\n",
    "| Rural Population          | Rural population refers to people living in rural areas as defined by national statistical offices.                                                                      | % of Total Population                 |"
   ]
  },
  {
   "cell_type": "markdown",
   "metadata": {},
   "source": [
    "### Data discussion"
   ]
  },
  {
   "cell_type": "markdown",
   "metadata": {},
   "source": [
    "As mentioned, the data comes from the World Bank Database. It is important to note that the data is taken as the average over the previous 10 years so as to avoid issues with time series. Each row is an individual country and each column is one variable. Another fact worthy of note is that some countries did not have complete data for each variable, especially developing countries. Thus, the average of those variables over the past 10 years removes the NaN values."
   ]
  },
  {
   "cell_type": "markdown",
   "metadata": {},
   "source": [
    "### Data cleaning"
   ]
  },
  {
   "cell_type": "markdown",
   "metadata": {},
   "source": [
    "- Import pandas"
   ]
  },
  {
   "cell_type": "code",
   "execution_count": 1,
   "metadata": {},
   "outputs": [],
   "source": [
    "import pandas as pd"
   ]
  },
  {
   "cell_type": "markdown",
   "metadata": {},
   "source": [
    "- Read in raw demographics data"
   ]
  },
  {
   "cell_type": "code",
   "execution_count": 2,
   "metadata": {},
   "outputs": [
    {
     "data": {
      "text/html": [
       "<div>\n",
       "<style scoped>\n",
       "    .dataframe tbody tr th:only-of-type {\n",
       "        vertical-align: middle;\n",
       "    }\n",
       "\n",
       "    .dataframe tbody tr th {\n",
       "        vertical-align: top;\n",
       "    }\n",
       "\n",
       "    .dataframe thead th {\n",
       "        text-align: right;\n",
       "    }\n",
       "</style>\n",
       "<table border=\"1\" class=\"dataframe\">\n",
       "  <thead>\n",
       "    <tr style=\"text-align: right;\">\n",
       "      <th></th>\n",
       "      <th>Country Name</th>\n",
       "      <th>Country Code</th>\n",
       "      <th>Time</th>\n",
       "      <th>Time Code</th>\n",
       "      <th>Age dependency ratio, young (% of working-age population) [SP.POP.DPND.YG]</th>\n",
       "      <th>Fertility rate, total (births per woman) [SP.DYN.TFRT.IN]</th>\n",
       "      <th>GDP growth (annual %) [NY.GDP.MKTP.KD.ZG]</th>\n",
       "      <th>Life expectancy at birth, total (years) [SP.DYN.LE00.IN]</th>\n",
       "      <th>School enrollment, primary (% gross) [SE.PRM.ENRR]</th>\n",
       "      <th>Literacy rate, adult total (% of people ages 15 and above) [SE.ADT.LITR.ZS]</th>\n",
       "      <th>Rural population (% of total population) [SP.RUR.TOTL.ZS]</th>\n",
       "    </tr>\n",
       "  </thead>\n",
       "  <tbody>\n",
       "    <tr>\n",
       "      <th>0</th>\n",
       "      <td>Afghanistan</td>\n",
       "      <td>AFG</td>\n",
       "      <td>2013.0</td>\n",
       "      <td>YR2013</td>\n",
       "      <td>92.388046</td>\n",
       "      <td>5.696</td>\n",
       "      <td>5.60074465808154</td>\n",
       "      <td>62.417</td>\n",
       "      <td>107.695976257324</td>\n",
       "      <td>..</td>\n",
       "      <td>75.627</td>\n",
       "    </tr>\n",
       "    <tr>\n",
       "      <th>1</th>\n",
       "      <td>Afghanistan</td>\n",
       "      <td>AFG</td>\n",
       "      <td>2014.0</td>\n",
       "      <td>YR2014</td>\n",
       "      <td>90.015900</td>\n",
       "      <td>5.56</td>\n",
       "      <td>2.72454336394854</td>\n",
       "      <td>62.545</td>\n",
       "      <td>109.115516662598</td>\n",
       "      <td>..</td>\n",
       "      <td>75.413</td>\n",
       "    </tr>\n",
       "    <tr>\n",
       "      <th>2</th>\n",
       "      <td>Afghanistan</td>\n",
       "      <td>AFG</td>\n",
       "      <td>2015.0</td>\n",
       "      <td>YR2015</td>\n",
       "      <td>88.398202</td>\n",
       "      <td>5.405</td>\n",
       "      <td>1.45131466009755</td>\n",
       "      <td>62.659</td>\n",
       "      <td>106.182418823242</td>\n",
       "      <td>..</td>\n",
       "      <td>75.197</td>\n",
       "    </tr>\n",
       "    <tr>\n",
       "      <th>3</th>\n",
       "      <td>Afghanistan</td>\n",
       "      <td>AFG</td>\n",
       "      <td>2016.0</td>\n",
       "      <td>YR2016</td>\n",
       "      <td>87.405774</td>\n",
       "      <td>5.262</td>\n",
       "      <td>2.26031420130452</td>\n",
       "      <td>63.136</td>\n",
       "      <td>106.150283813477</td>\n",
       "      <td>..</td>\n",
       "      <td>74.98</td>\n",
       "    </tr>\n",
       "    <tr>\n",
       "      <th>4</th>\n",
       "      <td>Afghanistan</td>\n",
       "      <td>AFG</td>\n",
       "      <td>2017.0</td>\n",
       "      <td>YR2017</td>\n",
       "      <td>85.970407</td>\n",
       "      <td>5.129</td>\n",
       "      <td>2.64700320195786</td>\n",
       "      <td>63.016</td>\n",
       "      <td>106.129997253418</td>\n",
       "      <td>..</td>\n",
       "      <td>74.75</td>\n",
       "    </tr>\n",
       "  </tbody>\n",
       "</table>\n",
       "</div>"
      ],
      "text/plain": [
       "  Country Name Country Code    Time Time Code  \\\n",
       "0  Afghanistan          AFG  2013.0    YR2013   \n",
       "1  Afghanistan          AFG  2014.0    YR2014   \n",
       "2  Afghanistan          AFG  2015.0    YR2015   \n",
       "3  Afghanistan          AFG  2016.0    YR2016   \n",
       "4  Afghanistan          AFG  2017.0    YR2017   \n",
       "\n",
       "   Age dependency ratio, young (% of working-age population) [SP.POP.DPND.YG]  \\\n",
       "0                                          92.388046                            \n",
       "1                                          90.015900                            \n",
       "2                                          88.398202                            \n",
       "3                                          87.405774                            \n",
       "4                                          85.970407                            \n",
       "\n",
       "  Fertility rate, total (births per woman) [SP.DYN.TFRT.IN]  \\\n",
       "0                                              5.696          \n",
       "1                                               5.56          \n",
       "2                                              5.405          \n",
       "3                                              5.262          \n",
       "4                                              5.129          \n",
       "\n",
       "  GDP growth (annual %) [NY.GDP.MKTP.KD.ZG]  \\\n",
       "0                          5.60074465808154   \n",
       "1                          2.72454336394854   \n",
       "2                          1.45131466009755   \n",
       "3                          2.26031420130452   \n",
       "4                          2.64700320195786   \n",
       "\n",
       "  Life expectancy at birth, total (years) [SP.DYN.LE00.IN]  \\\n",
       "0                                             62.417         \n",
       "1                                             62.545         \n",
       "2                                             62.659         \n",
       "3                                             63.136         \n",
       "4                                             63.016         \n",
       "\n",
       "  School enrollment, primary (% gross) [SE.PRM.ENRR]  \\\n",
       "0                                   107.695976257324   \n",
       "1                                   109.115516662598   \n",
       "2                                   106.182418823242   \n",
       "3                                   106.150283813477   \n",
       "4                                   106.129997253418   \n",
       "\n",
       "  Literacy rate, adult total (% of people ages 15 and above) [SE.ADT.LITR.ZS]  \\\n",
       "0                                                 ..                            \n",
       "1                                                 ..                            \n",
       "2                                                 ..                            \n",
       "3                                                 ..                            \n",
       "4                                                 ..                            \n",
       "\n",
       "  Rural population (% of total population) [SP.RUR.TOTL.ZS]  \n",
       "0                                             75.627         \n",
       "1                                             75.413         \n",
       "2                                             75.197         \n",
       "3                                              74.98         \n",
       "4                                              74.75         "
      ]
     },
     "execution_count": 2,
     "metadata": {},
     "output_type": "execute_result"
    }
   ],
   "source": [
    "df = pd.read_csv('data/Demographics.csv')\n",
    "df.head()"
   ]
  },
  {
   "cell_type": "markdown",
   "metadata": {},
   "source": [
    "- Rename variables for ease of use"
   ]
  },
  {
   "cell_type": "code",
   "execution_count": 3,
   "metadata": {},
   "outputs": [
    {
     "data": {
      "text/html": [
       "<div>\n",
       "<style scoped>\n",
       "    .dataframe tbody tr th:only-of-type {\n",
       "        vertical-align: middle;\n",
       "    }\n",
       "\n",
       "    .dataframe tbody tr th {\n",
       "        vertical-align: top;\n",
       "    }\n",
       "\n",
       "    .dataframe thead th {\n",
       "        text-align: right;\n",
       "    }\n",
       "</style>\n",
       "<table border=\"1\" class=\"dataframe\">\n",
       "  <thead>\n",
       "    <tr style=\"text-align: right;\">\n",
       "      <th></th>\n",
       "      <th>Country</th>\n",
       "      <th>Country Code</th>\n",
       "      <th>Year</th>\n",
       "      <th>Time Code</th>\n",
       "      <th>Age Dependancy Ratio</th>\n",
       "      <th>Fertility Rate</th>\n",
       "      <th>GDP Growth</th>\n",
       "      <th>Life Expectancy</th>\n",
       "      <th>Primary School Enrollment</th>\n",
       "      <th>Literacy Rate</th>\n",
       "      <th>Rural Population</th>\n",
       "    </tr>\n",
       "  </thead>\n",
       "  <tbody>\n",
       "    <tr>\n",
       "      <th>0</th>\n",
       "      <td>Afghanistan</td>\n",
       "      <td>AFG</td>\n",
       "      <td>2013.0</td>\n",
       "      <td>YR2013</td>\n",
       "      <td>92.388046</td>\n",
       "      <td>5.696</td>\n",
       "      <td>5.60074465808154</td>\n",
       "      <td>62.417</td>\n",
       "      <td>107.695976257324</td>\n",
       "      <td>..</td>\n",
       "      <td>75.627</td>\n",
       "    </tr>\n",
       "    <tr>\n",
       "      <th>1</th>\n",
       "      <td>Afghanistan</td>\n",
       "      <td>AFG</td>\n",
       "      <td>2014.0</td>\n",
       "      <td>YR2014</td>\n",
       "      <td>90.015900</td>\n",
       "      <td>5.56</td>\n",
       "      <td>2.72454336394854</td>\n",
       "      <td>62.545</td>\n",
       "      <td>109.115516662598</td>\n",
       "      <td>..</td>\n",
       "      <td>75.413</td>\n",
       "    </tr>\n",
       "    <tr>\n",
       "      <th>2</th>\n",
       "      <td>Afghanistan</td>\n",
       "      <td>AFG</td>\n",
       "      <td>2015.0</td>\n",
       "      <td>YR2015</td>\n",
       "      <td>88.398202</td>\n",
       "      <td>5.405</td>\n",
       "      <td>1.45131466009755</td>\n",
       "      <td>62.659</td>\n",
       "      <td>106.182418823242</td>\n",
       "      <td>..</td>\n",
       "      <td>75.197</td>\n",
       "    </tr>\n",
       "    <tr>\n",
       "      <th>3</th>\n",
       "      <td>Afghanistan</td>\n",
       "      <td>AFG</td>\n",
       "      <td>2016.0</td>\n",
       "      <td>YR2016</td>\n",
       "      <td>87.405774</td>\n",
       "      <td>5.262</td>\n",
       "      <td>2.26031420130452</td>\n",
       "      <td>63.136</td>\n",
       "      <td>106.150283813477</td>\n",
       "      <td>..</td>\n",
       "      <td>74.98</td>\n",
       "    </tr>\n",
       "    <tr>\n",
       "      <th>4</th>\n",
       "      <td>Afghanistan</td>\n",
       "      <td>AFG</td>\n",
       "      <td>2017.0</td>\n",
       "      <td>YR2017</td>\n",
       "      <td>85.970407</td>\n",
       "      <td>5.129</td>\n",
       "      <td>2.64700320195786</td>\n",
       "      <td>63.016</td>\n",
       "      <td>106.129997253418</td>\n",
       "      <td>..</td>\n",
       "      <td>74.75</td>\n",
       "    </tr>\n",
       "  </tbody>\n",
       "</table>\n",
       "</div>"
      ],
      "text/plain": [
       "       Country Country Code    Year Time Code  Age Dependancy Ratio  \\\n",
       "0  Afghanistan          AFG  2013.0    YR2013             92.388046   \n",
       "1  Afghanistan          AFG  2014.0    YR2014             90.015900   \n",
       "2  Afghanistan          AFG  2015.0    YR2015             88.398202   \n",
       "3  Afghanistan          AFG  2016.0    YR2016             87.405774   \n",
       "4  Afghanistan          AFG  2017.0    YR2017             85.970407   \n",
       "\n",
       "  Fertility Rate        GDP Growth Life Expectancy Primary School Enrollment  \\\n",
       "0          5.696  5.60074465808154          62.417          107.695976257324   \n",
       "1           5.56  2.72454336394854          62.545          109.115516662598   \n",
       "2          5.405  1.45131466009755          62.659          106.182418823242   \n",
       "3          5.262  2.26031420130452          63.136          106.150283813477   \n",
       "4          5.129  2.64700320195786          63.016          106.129997253418   \n",
       "\n",
       "  Literacy Rate Rural Population  \n",
       "0            ..           75.627  \n",
       "1            ..           75.413  \n",
       "2            ..           75.197  \n",
       "3            ..            74.98  \n",
       "4            ..            74.75  "
      ]
     },
     "execution_count": 3,
     "metadata": {},
     "output_type": "execute_result"
    }
   ],
   "source": [
    "df = df.rename(columns={\"Country Name\":'Country', \n",
    "                        \"Time\":'Year', \n",
    "                        \"Age dependency ratio, young (% of working-age population) [SP.POP.DPND.YG]\":'Age Dependancy Ratio',\n",
    "                        \"Fertility rate, total (births per woman) [SP.DYN.TFRT.IN]\": 'Fertility Rate',\n",
    "                        \"GDP growth (annual %) [NY.GDP.MKTP.KD.ZG]\": 'GDP Growth',\n",
    "                        \"Life expectancy at birth, total (years) [SP.DYN.LE00.IN]\": 'Life Expectancy',\n",
    "                        \"School enrollment, primary (% gross) [SE.PRM.ENRR]\": 'Primary School Enrollment', \n",
    "                        \"Literacy rate, adult total (% of people ages 15 and above) [SE.ADT.LITR.ZS]\": 'Literacy Rate',\n",
    "                        \"Rural population (% of total population) [SP.RUR.TOTL.ZS]\": 'Rural Population'})\n",
    "df.head()"
   ]
  },
  {
   "cell_type": "markdown",
   "metadata": {},
   "source": [
    "- Filter out country code and time code"
   ]
  },
  {
   "cell_type": "code",
   "execution_count": 4,
   "metadata": {},
   "outputs": [
    {
     "data": {
      "text/html": [
       "<div>\n",
       "<style scoped>\n",
       "    .dataframe tbody tr th:only-of-type {\n",
       "        vertical-align: middle;\n",
       "    }\n",
       "\n",
       "    .dataframe tbody tr th {\n",
       "        vertical-align: top;\n",
       "    }\n",
       "\n",
       "    .dataframe thead th {\n",
       "        text-align: right;\n",
       "    }\n",
       "</style>\n",
       "<table border=\"1\" class=\"dataframe\">\n",
       "  <thead>\n",
       "    <tr style=\"text-align: right;\">\n",
       "      <th></th>\n",
       "      <th>Country</th>\n",
       "      <th>Age Dependancy Ratio</th>\n",
       "      <th>Fertility Rate</th>\n",
       "      <th>GDP Growth</th>\n",
       "      <th>Life Expectancy</th>\n",
       "      <th>Primary School Enrollment</th>\n",
       "      <th>Literacy Rate</th>\n",
       "      <th>Rural Population</th>\n",
       "    </tr>\n",
       "  </thead>\n",
       "  <tbody>\n",
       "    <tr>\n",
       "      <th>0</th>\n",
       "      <td>Afghanistan</td>\n",
       "      <td>92.388046</td>\n",
       "      <td>5.696</td>\n",
       "      <td>5.60074465808154</td>\n",
       "      <td>62.417</td>\n",
       "      <td>107.695976257324</td>\n",
       "      <td>..</td>\n",
       "      <td>75.627</td>\n",
       "    </tr>\n",
       "    <tr>\n",
       "      <th>1</th>\n",
       "      <td>Afghanistan</td>\n",
       "      <td>90.015900</td>\n",
       "      <td>5.56</td>\n",
       "      <td>2.72454336394854</td>\n",
       "      <td>62.545</td>\n",
       "      <td>109.115516662598</td>\n",
       "      <td>..</td>\n",
       "      <td>75.413</td>\n",
       "    </tr>\n",
       "    <tr>\n",
       "      <th>2</th>\n",
       "      <td>Afghanistan</td>\n",
       "      <td>88.398202</td>\n",
       "      <td>5.405</td>\n",
       "      <td>1.45131466009755</td>\n",
       "      <td>62.659</td>\n",
       "      <td>106.182418823242</td>\n",
       "      <td>..</td>\n",
       "      <td>75.197</td>\n",
       "    </tr>\n",
       "    <tr>\n",
       "      <th>3</th>\n",
       "      <td>Afghanistan</td>\n",
       "      <td>87.405774</td>\n",
       "      <td>5.262</td>\n",
       "      <td>2.26031420130452</td>\n",
       "      <td>63.136</td>\n",
       "      <td>106.150283813477</td>\n",
       "      <td>..</td>\n",
       "      <td>74.98</td>\n",
       "    </tr>\n",
       "    <tr>\n",
       "      <th>4</th>\n",
       "      <td>Afghanistan</td>\n",
       "      <td>85.970407</td>\n",
       "      <td>5.129</td>\n",
       "      <td>2.64700320195786</td>\n",
       "      <td>63.016</td>\n",
       "      <td>106.129997253418</td>\n",
       "      <td>..</td>\n",
       "      <td>74.75</td>\n",
       "    </tr>\n",
       "  </tbody>\n",
       "</table>\n",
       "</div>"
      ],
      "text/plain": [
       "       Country  Age Dependancy Ratio Fertility Rate        GDP Growth  \\\n",
       "0  Afghanistan             92.388046          5.696  5.60074465808154   \n",
       "1  Afghanistan             90.015900           5.56  2.72454336394854   \n",
       "2  Afghanistan             88.398202          5.405  1.45131466009755   \n",
       "3  Afghanistan             87.405774          5.262  2.26031420130452   \n",
       "4  Afghanistan             85.970407          5.129  2.64700320195786   \n",
       "\n",
       "  Life Expectancy Primary School Enrollment Literacy Rate Rural Population  \n",
       "0          62.417          107.695976257324            ..           75.627  \n",
       "1          62.545          109.115516662598            ..           75.413  \n",
       "2          62.659          106.182418823242            ..           75.197  \n",
       "3          63.136          106.150283813477            ..            74.98  \n",
       "4          63.016          106.129997253418            ..            74.75  "
      ]
     },
     "execution_count": 4,
     "metadata": {},
     "output_type": "execute_result"
    }
   ],
   "source": [
    "df = df.filter(['Country','Age Dependancy Ratio','Fertility Rate', 'GDP Growth', \n",
    "                'Life Expectancy', 'Primary School Enrollment', 'Literacy Rate', 'Rural Population'])\n",
    "df.head()"
   ]
  },
  {
   "cell_type": "markdown",
   "metadata": {},
   "source": [
    "- Make a copy of current data frame"
   ]
  },
  {
   "cell_type": "code",
   "execution_count": 5,
   "metadata": {},
   "outputs": [],
   "source": [
    "df2 = df.copy()"
   ]
  },
  {
   "cell_type": "markdown",
   "metadata": {},
   "source": [
    "- Convert the Country variable in the dataframe to a series called Country"
   ]
  },
  {
   "cell_type": "code",
   "execution_count": 6,
   "metadata": {},
   "outputs": [
    {
     "data": {
      "text/plain": [
       "0    Afghanistan\n",
       "1    Afghanistan\n",
       "2    Afghanistan\n",
       "3    Afghanistan\n",
       "4    Afghanistan\n",
       "Name: Country, dtype: object"
      ]
     },
     "execution_count": 6,
     "metadata": {},
     "output_type": "execute_result"
    }
   ],
   "source": [
    "Country = df['Country']\n",
    "Country.head()"
   ]
  },
  {
   "cell_type": "code",
   "execution_count": 7,
   "metadata": {},
   "outputs": [
    {
     "data": {
      "text/plain": [
       "pandas.core.series.Series"
      ]
     },
     "execution_count": 7,
     "metadata": {},
     "output_type": "execute_result"
    }
   ],
   "source": [
    "type(Country)"
   ]
  },
  {
   "cell_type": "markdown",
   "metadata": {},
   "source": [
    "- Change all non-numeric objects to NaN"
   ]
  },
  {
   "cell_type": "code",
   "execution_count": 8,
   "metadata": {},
   "outputs": [],
   "source": [
    "for col in  df2.columns[1:]:\n",
    "    df2[col] = pd.to_numeric(df2[col], errors='coerce')"
   ]
  },
  {
   "cell_type": "code",
   "execution_count": 9,
   "metadata": {},
   "outputs": [
    {
     "data": {
      "text/html": [
       "<div>\n",
       "<style scoped>\n",
       "    .dataframe tbody tr th:only-of-type {\n",
       "        vertical-align: middle;\n",
       "    }\n",
       "\n",
       "    .dataframe tbody tr th {\n",
       "        vertical-align: top;\n",
       "    }\n",
       "\n",
       "    .dataframe thead th {\n",
       "        text-align: right;\n",
       "    }\n",
       "</style>\n",
       "<table border=\"1\" class=\"dataframe\">\n",
       "  <thead>\n",
       "    <tr style=\"text-align: right;\">\n",
       "      <th></th>\n",
       "      <th>Country</th>\n",
       "      <th>Age Dependancy Ratio</th>\n",
       "      <th>Fertility Rate</th>\n",
       "      <th>GDP Growth</th>\n",
       "      <th>Life Expectancy</th>\n",
       "      <th>Primary School Enrollment</th>\n",
       "      <th>Literacy Rate</th>\n",
       "      <th>Rural Population</th>\n",
       "    </tr>\n",
       "  </thead>\n",
       "  <tbody>\n",
       "    <tr>\n",
       "      <th>0</th>\n",
       "      <td>Afghanistan</td>\n",
       "      <td>92.388046</td>\n",
       "      <td>5.696</td>\n",
       "      <td>5.600745</td>\n",
       "      <td>62.417</td>\n",
       "      <td>107.695976</td>\n",
       "      <td>NaN</td>\n",
       "      <td>75.627</td>\n",
       "    </tr>\n",
       "    <tr>\n",
       "      <th>1</th>\n",
       "      <td>Afghanistan</td>\n",
       "      <td>90.015900</td>\n",
       "      <td>5.560</td>\n",
       "      <td>2.724543</td>\n",
       "      <td>62.545</td>\n",
       "      <td>109.115517</td>\n",
       "      <td>NaN</td>\n",
       "      <td>75.413</td>\n",
       "    </tr>\n",
       "    <tr>\n",
       "      <th>2</th>\n",
       "      <td>Afghanistan</td>\n",
       "      <td>88.398202</td>\n",
       "      <td>5.405</td>\n",
       "      <td>1.451315</td>\n",
       "      <td>62.659</td>\n",
       "      <td>106.182419</td>\n",
       "      <td>NaN</td>\n",
       "      <td>75.197</td>\n",
       "    </tr>\n",
       "    <tr>\n",
       "      <th>3</th>\n",
       "      <td>Afghanistan</td>\n",
       "      <td>87.405774</td>\n",
       "      <td>5.262</td>\n",
       "      <td>2.260314</td>\n",
       "      <td>63.136</td>\n",
       "      <td>106.150284</td>\n",
       "      <td>NaN</td>\n",
       "      <td>74.980</td>\n",
       "    </tr>\n",
       "    <tr>\n",
       "      <th>4</th>\n",
       "      <td>Afghanistan</td>\n",
       "      <td>85.970407</td>\n",
       "      <td>5.129</td>\n",
       "      <td>2.647003</td>\n",
       "      <td>63.016</td>\n",
       "      <td>106.129997</td>\n",
       "      <td>NaN</td>\n",
       "      <td>74.750</td>\n",
       "    </tr>\n",
       "  </tbody>\n",
       "</table>\n",
       "</div>"
      ],
      "text/plain": [
       "       Country  Age Dependancy Ratio  Fertility Rate  GDP Growth  \\\n",
       "0  Afghanistan             92.388046           5.696    5.600745   \n",
       "1  Afghanistan             90.015900           5.560    2.724543   \n",
       "2  Afghanistan             88.398202           5.405    1.451315   \n",
       "3  Afghanistan             87.405774           5.262    2.260314   \n",
       "4  Afghanistan             85.970407           5.129    2.647003   \n",
       "\n",
       "   Life Expectancy  Primary School Enrollment  Literacy Rate  Rural Population  \n",
       "0           62.417                 107.695976            NaN            75.627  \n",
       "1           62.545                 109.115517            NaN            75.413  \n",
       "2           62.659                 106.182419            NaN            75.197  \n",
       "3           63.136                 106.150284            NaN            74.980  \n",
       "4           63.016                 106.129997            NaN            74.750  "
      ]
     },
     "execution_count": 9,
     "metadata": {},
     "output_type": "execute_result"
    }
   ],
   "source": [
    "df2.head()"
   ]
  },
  {
   "cell_type": "markdown",
   "metadata": {},
   "source": [
    "Count non-missing observations for each variable"
   ]
  },
  {
   "cell_type": "code",
   "execution_count": 10,
   "metadata": {},
   "outputs": [
    {
     "name": "stdout",
     "output_type": "stream",
     "text": [
      "<class 'pandas.core.frame.DataFrame'>\n",
      "RangeIndex: 1958 entries, 0 to 1957\n",
      "Data columns (total 8 columns):\n",
      " #   Column                     Non-Null Count  Dtype  \n",
      "---  ------                     --------------  -----  \n",
      " 0   Country                    1955 non-null   object \n",
      " 1   Age Dependancy Ratio       1953 non-null   float64\n",
      " 2   Fertility Rate             1892 non-null   float64\n",
      " 3   GDP Growth                 1867 non-null   float64\n",
      " 4   Life Expectancy            1886 non-null   float64\n",
      " 5   Primary School Enrollment  1494 non-null   float64\n",
      " 6   Literacy Rate              309 non-null    float64\n",
      " 7   Rural Population           1935 non-null   float64\n",
      "dtypes: float64(7), object(1)\n",
      "memory usage: 122.5+ KB\n"
     ]
    }
   ],
   "source": [
    "df2.info()"
   ]
  },
  {
   "cell_type": "markdown",
   "metadata": {},
   "source": [
    "- Calculate the mean of all non-missing values by country"
   ]
  },
  {
   "cell_type": "code",
   "execution_count": 11,
   "metadata": {},
   "outputs": [
    {
     "data": {
      "text/html": [
       "<div>\n",
       "<style scoped>\n",
       "    .dataframe tbody tr th:only-of-type {\n",
       "        vertical-align: middle;\n",
       "    }\n",
       "\n",
       "    .dataframe tbody tr th {\n",
       "        vertical-align: top;\n",
       "    }\n",
       "\n",
       "    .dataframe thead th {\n",
       "        text-align: right;\n",
       "    }\n",
       "</style>\n",
       "<table border=\"1\" class=\"dataframe\">\n",
       "  <thead>\n",
       "    <tr style=\"text-align: right;\">\n",
       "      <th></th>\n",
       "      <th>Age Dependancy Ratio</th>\n",
       "      <th>Fertility Rate</th>\n",
       "      <th>GDP Growth</th>\n",
       "      <th>Life Expectancy</th>\n",
       "      <th>Primary School Enrollment</th>\n",
       "      <th>Literacy Rate</th>\n",
       "      <th>Rural Population</th>\n",
       "    </tr>\n",
       "    <tr>\n",
       "      <th>Country</th>\n",
       "      <th></th>\n",
       "      <th></th>\n",
       "      <th></th>\n",
       "      <th></th>\n",
       "      <th></th>\n",
       "      <th></th>\n",
       "      <th></th>\n",
       "    </tr>\n",
       "  </thead>\n",
       "  <tbody>\n",
       "    <tr>\n",
       "      <th>Afghanistan</th>\n",
       "      <td>85.939664</td>\n",
       "      <td>5.146333</td>\n",
       "      <td>-0.362928</td>\n",
       "      <td>62.775111</td>\n",
       "      <td>107.580319</td>\n",
       "      <td>37.266041</td>\n",
       "      <td>74.708667</td>\n",
       "    </tr>\n",
       "    <tr>\n",
       "      <th>Albania</th>\n",
       "      <td>25.747409</td>\n",
       "      <td>1.518889</td>\n",
       "      <td>2.647364</td>\n",
       "      <td>78.333222</td>\n",
       "      <td>107.653550</td>\n",
       "      <td>NaN</td>\n",
       "      <td>40.702556</td>\n",
       "    </tr>\n",
       "    <tr>\n",
       "      <th>Algeria</th>\n",
       "      <td>45.839689</td>\n",
       "      <td>2.993889</td>\n",
       "      <td>1.700000</td>\n",
       "      <td>75.576889</td>\n",
       "      <td>109.901002</td>\n",
       "      <td>81.407837</td>\n",
       "      <td>28.003556</td>\n",
       "    </tr>\n",
       "    <tr>\n",
       "      <th>American Samoa</th>\n",
       "      <td>46.999079</td>\n",
       "      <td>NaN</td>\n",
       "      <td>-0.096902</td>\n",
       "      <td>NaN</td>\n",
       "      <td>NaN</td>\n",
       "      <td>NaN</td>\n",
       "      <td>12.792889</td>\n",
       "    </tr>\n",
       "    <tr>\n",
       "      <th>Andorra</th>\n",
       "      <td>20.279530</td>\n",
       "      <td>NaN</td>\n",
       "      <td>0.572704</td>\n",
       "      <td>NaN</td>\n",
       "      <td>89.001746</td>\n",
       "      <td>NaN</td>\n",
       "      <td>11.828778</td>\n",
       "    </tr>\n",
       "  </tbody>\n",
       "</table>\n",
       "</div>"
      ],
      "text/plain": [
       "                Age Dependancy Ratio  Fertility Rate  GDP Growth  \\\n",
       "Country                                                            \n",
       "Afghanistan                85.939664        5.146333   -0.362928   \n",
       "Albania                    25.747409        1.518889    2.647364   \n",
       "Algeria                    45.839689        2.993889    1.700000   \n",
       "American Samoa             46.999079             NaN   -0.096902   \n",
       "Andorra                    20.279530             NaN    0.572704   \n",
       "\n",
       "                Life Expectancy  Primary School Enrollment  Literacy Rate  \\\n",
       "Country                                                                     \n",
       "Afghanistan           62.775111                 107.580319      37.266041   \n",
       "Albania               78.333222                 107.653550            NaN   \n",
       "Algeria               75.576889                 109.901002      81.407837   \n",
       "American Samoa              NaN                        NaN            NaN   \n",
       "Andorra                     NaN                  89.001746            NaN   \n",
       "\n",
       "                Rural Population  \n",
       "Country                           \n",
       "Afghanistan            74.708667  \n",
       "Albania                40.702556  \n",
       "Algeria                28.003556  \n",
       "American Samoa         12.792889  \n",
       "Andorra                11.828778  "
      ]
     },
     "execution_count": 11,
     "metadata": {},
     "output_type": "execute_result"
    }
   ],
   "source": [
    "df = df2.groupby('Country').mean()\n",
    "df.head()"
   ]
  },
  {
   "cell_type": "markdown",
   "metadata": {},
   "source": [
    "- Drop na's "
   ]
  },
  {
   "cell_type": "code",
   "execution_count": 12,
   "metadata": {},
   "outputs": [
    {
     "data": {
      "text/html": [
       "<div>\n",
       "<style scoped>\n",
       "    .dataframe tbody tr th:only-of-type {\n",
       "        vertical-align: middle;\n",
       "    }\n",
       "\n",
       "    .dataframe tbody tr th {\n",
       "        vertical-align: top;\n",
       "    }\n",
       "\n",
       "    .dataframe thead th {\n",
       "        text-align: right;\n",
       "    }\n",
       "</style>\n",
       "<table border=\"1\" class=\"dataframe\">\n",
       "  <thead>\n",
       "    <tr style=\"text-align: right;\">\n",
       "      <th></th>\n",
       "      <th>Age Dependancy Ratio</th>\n",
       "      <th>Fertility Rate</th>\n",
       "      <th>GDP Growth</th>\n",
       "      <th>Life Expectancy</th>\n",
       "      <th>Primary School Enrollment</th>\n",
       "      <th>Literacy Rate</th>\n",
       "      <th>Rural Population</th>\n",
       "    </tr>\n",
       "    <tr>\n",
       "      <th>Country</th>\n",
       "      <th></th>\n",
       "      <th></th>\n",
       "      <th></th>\n",
       "      <th></th>\n",
       "      <th></th>\n",
       "      <th></th>\n",
       "      <th></th>\n",
       "    </tr>\n",
       "  </thead>\n",
       "  <tbody>\n",
       "    <tr>\n",
       "      <th>Afghanistan</th>\n",
       "      <td>85.939664</td>\n",
       "      <td>5.146333</td>\n",
       "      <td>-0.362928</td>\n",
       "      <td>62.775111</td>\n",
       "      <td>107.580319</td>\n",
       "      <td>37.266041</td>\n",
       "      <td>74.708667</td>\n",
       "    </tr>\n",
       "    <tr>\n",
       "      <th>Algeria</th>\n",
       "      <td>45.839689</td>\n",
       "      <td>2.993889</td>\n",
       "      <td>1.700000</td>\n",
       "      <td>75.576889</td>\n",
       "      <td>109.901002</td>\n",
       "      <td>81.407837</td>\n",
       "      <td>28.003556</td>\n",
       "    </tr>\n",
       "    <tr>\n",
       "      <th>Angola</th>\n",
       "      <td>87.853405</td>\n",
       "      <td>5.612556</td>\n",
       "      <td>0.170649</td>\n",
       "      <td>61.252222</td>\n",
       "      <td>109.244814</td>\n",
       "      <td>66.030113</td>\n",
       "      <td>35.206333</td>\n",
       "    </tr>\n",
       "    <tr>\n",
       "      <th>Armenia</th>\n",
       "      <td>29.046853</td>\n",
       "      <td>1.598889</td>\n",
       "      <td>3.233333</td>\n",
       "      <td>74.051000</td>\n",
       "      <td>99.460075</td>\n",
       "      <td>99.756363</td>\n",
       "      <td>36.815778</td>\n",
       "    </tr>\n",
       "    <tr>\n",
       "      <th>Aruba</th>\n",
       "      <td>26.537023</td>\n",
       "      <td>1.734111</td>\n",
       "      <td>2.447594</td>\n",
       "      <td>75.678778</td>\n",
       "      <td>117.817928</td>\n",
       "      <td>97.989998</td>\n",
       "      <td>56.650667</td>\n",
       "    </tr>\n",
       "  </tbody>\n",
       "</table>\n",
       "</div>"
      ],
      "text/plain": [
       "             Age Dependancy Ratio  Fertility Rate  GDP Growth  \\\n",
       "Country                                                         \n",
       "Afghanistan             85.939664        5.146333   -0.362928   \n",
       "Algeria                 45.839689        2.993889    1.700000   \n",
       "Angola                  87.853405        5.612556    0.170649   \n",
       "Armenia                 29.046853        1.598889    3.233333   \n",
       "Aruba                   26.537023        1.734111    2.447594   \n",
       "\n",
       "             Life Expectancy  Primary School Enrollment  Literacy Rate  \\\n",
       "Country                                                                  \n",
       "Afghanistan        62.775111                 107.580319      37.266041   \n",
       "Algeria            75.576889                 109.901002      81.407837   \n",
       "Angola             61.252222                 109.244814      66.030113   \n",
       "Armenia            74.051000                  99.460075      99.756363   \n",
       "Aruba              75.678778                 117.817928      97.989998   \n",
       "\n",
       "             Rural Population  \n",
       "Country                        \n",
       "Afghanistan         74.708667  \n",
       "Algeria             28.003556  \n",
       "Angola              35.206333  \n",
       "Armenia             36.815778  \n",
       "Aruba               56.650667  "
      ]
     },
     "execution_count": 12,
     "metadata": {},
     "output_type": "execute_result"
    }
   ],
   "source": [
    "df = df.dropna()\n",
    "df.head()"
   ]
  },
  {
   "cell_type": "code",
   "execution_count": 13,
   "metadata": {},
   "outputs": [
    {
     "name": "stdout",
     "output_type": "stream",
     "text": [
      "<class 'pandas.core.frame.DataFrame'>\n",
      "Index: 123 entries, Afghanistan to Zimbabwe\n",
      "Data columns (total 7 columns):\n",
      " #   Column                     Non-Null Count  Dtype  \n",
      "---  ------                     --------------  -----  \n",
      " 0   Age Dependancy Ratio       123 non-null    float64\n",
      " 1   Fertility Rate             123 non-null    float64\n",
      " 2   GDP Growth                 123 non-null    float64\n",
      " 3   Life Expectancy            123 non-null    float64\n",
      " 4   Primary School Enrollment  123 non-null    float64\n",
      " 5   Literacy Rate              123 non-null    float64\n",
      " 6   Rural Population           123 non-null    float64\n",
      "dtypes: float64(7)\n",
      "memory usage: 7.7+ KB\n"
     ]
    }
   ],
   "source": [
    "df.info()"
   ]
  },
  {
   "cell_type": "markdown",
   "metadata": {},
   "source": [
    "- We have 123 countries left to work with, and here is our clean data"
   ]
  },
  {
   "cell_type": "code",
   "execution_count": 14,
   "metadata": {},
   "outputs": [
    {
     "data": {
      "text/html": [
       "<div>\n",
       "<style scoped>\n",
       "    .dataframe tbody tr th:only-of-type {\n",
       "        vertical-align: middle;\n",
       "    }\n",
       "\n",
       "    .dataframe tbody tr th {\n",
       "        vertical-align: top;\n",
       "    }\n",
       "\n",
       "    .dataframe thead th {\n",
       "        text-align: right;\n",
       "    }\n",
       "</style>\n",
       "<table border=\"1\" class=\"dataframe\">\n",
       "  <thead>\n",
       "    <tr style=\"text-align: right;\">\n",
       "      <th></th>\n",
       "      <th>Age Dependancy Ratio</th>\n",
       "      <th>Fertility Rate</th>\n",
       "      <th>GDP Growth</th>\n",
       "      <th>Life Expectancy</th>\n",
       "      <th>Primary School Enrollment</th>\n",
       "      <th>Literacy Rate</th>\n",
       "      <th>Rural Population</th>\n",
       "    </tr>\n",
       "    <tr>\n",
       "      <th>Country</th>\n",
       "      <th></th>\n",
       "      <th></th>\n",
       "      <th></th>\n",
       "      <th></th>\n",
       "      <th></th>\n",
       "      <th></th>\n",
       "      <th></th>\n",
       "    </tr>\n",
       "  </thead>\n",
       "  <tbody>\n",
       "    <tr>\n",
       "      <th>Afghanistan</th>\n",
       "      <td>85.939664</td>\n",
       "      <td>5.146333</td>\n",
       "      <td>-0.362928</td>\n",
       "      <td>62.775111</td>\n",
       "      <td>107.580319</td>\n",
       "      <td>37.266041</td>\n",
       "      <td>74.708667</td>\n",
       "    </tr>\n",
       "    <tr>\n",
       "      <th>Algeria</th>\n",
       "      <td>45.839689</td>\n",
       "      <td>2.993889</td>\n",
       "      <td>1.700000</td>\n",
       "      <td>75.576889</td>\n",
       "      <td>109.901002</td>\n",
       "      <td>81.407837</td>\n",
       "      <td>28.003556</td>\n",
       "    </tr>\n",
       "    <tr>\n",
       "      <th>Angola</th>\n",
       "      <td>87.853405</td>\n",
       "      <td>5.612556</td>\n",
       "      <td>0.170649</td>\n",
       "      <td>61.252222</td>\n",
       "      <td>109.244814</td>\n",
       "      <td>66.030113</td>\n",
       "      <td>35.206333</td>\n",
       "    </tr>\n",
       "    <tr>\n",
       "      <th>Armenia</th>\n",
       "      <td>29.046853</td>\n",
       "      <td>1.598889</td>\n",
       "      <td>3.233333</td>\n",
       "      <td>74.051000</td>\n",
       "      <td>99.460075</td>\n",
       "      <td>99.756363</td>\n",
       "      <td>36.815778</td>\n",
       "    </tr>\n",
       "    <tr>\n",
       "      <th>Aruba</th>\n",
       "      <td>26.537023</td>\n",
       "      <td>1.734111</td>\n",
       "      <td>2.447594</td>\n",
       "      <td>75.678778</td>\n",
       "      <td>117.817928</td>\n",
       "      <td>97.989998</td>\n",
       "      <td>56.650667</td>\n",
       "    </tr>\n",
       "    <tr>\n",
       "      <th>...</th>\n",
       "      <td>...</td>\n",
       "      <td>...</td>\n",
       "      <td>...</td>\n",
       "      <td>...</td>\n",
       "      <td>...</td>\n",
       "      <td>...</td>\n",
       "      <td>...</td>\n",
       "    </tr>\n",
       "    <tr>\n",
       "      <th>Venezuela, RB</th>\n",
       "      <td>44.201793</td>\n",
       "      <td>2.296556</td>\n",
       "      <td>-1.275646</td>\n",
       "      <td>72.093889</td>\n",
       "      <td>98.563437</td>\n",
       "      <td>96.866154</td>\n",
       "      <td>11.796556</td>\n",
       "    </tr>\n",
       "    <tr>\n",
       "      <th>Viet Nam</th>\n",
       "      <td>33.369352</td>\n",
       "      <td>1.944889</td>\n",
       "      <td>5.871594</td>\n",
       "      <td>74.052444</td>\n",
       "      <td>111.475478</td>\n",
       "      <td>95.753868</td>\n",
       "      <td>64.776111</td>\n",
       "    </tr>\n",
       "    <tr>\n",
       "      <th>West Bank and Gaza</th>\n",
       "      <td>71.026831</td>\n",
       "      <td>3.814667</td>\n",
       "      <td>1.869919</td>\n",
       "      <td>74.261556</td>\n",
       "      <td>95.364152</td>\n",
       "      <td>96.710934</td>\n",
       "      <td>24.089778</td>\n",
       "    </tr>\n",
       "    <tr>\n",
       "      <th>Zambia</th>\n",
       "      <td>83.675509</td>\n",
       "      <td>4.634778</td>\n",
       "      <td>3.027344</td>\n",
       "      <td>61.604111</td>\n",
       "      <td>100.721525</td>\n",
       "      <td>87.500000</td>\n",
       "      <td>57.002000</td>\n",
       "    </tr>\n",
       "    <tr>\n",
       "      <th>Zimbabwe</th>\n",
       "      <td>77.194439</td>\n",
       "      <td>3.738444</td>\n",
       "      <td>1.223848</td>\n",
       "      <td>59.999222</td>\n",
       "      <td>99.378456</td>\n",
       "      <td>88.693420</td>\n",
       "      <td>67.662222</td>\n",
       "    </tr>\n",
       "  </tbody>\n",
       "</table>\n",
       "<p>123 rows × 7 columns</p>\n",
       "</div>"
      ],
      "text/plain": [
       "                    Age Dependancy Ratio  Fertility Rate  GDP Growth  \\\n",
       "Country                                                                \n",
       "Afghanistan                    85.939664        5.146333   -0.362928   \n",
       "Algeria                        45.839689        2.993889    1.700000   \n",
       "Angola                         87.853405        5.612556    0.170649   \n",
       "Armenia                        29.046853        1.598889    3.233333   \n",
       "Aruba                          26.537023        1.734111    2.447594   \n",
       "...                                  ...             ...         ...   \n",
       "Venezuela, RB                  44.201793        2.296556   -1.275646   \n",
       "Viet Nam                       33.369352        1.944889    5.871594   \n",
       "West Bank and Gaza             71.026831        3.814667    1.869919   \n",
       "Zambia                         83.675509        4.634778    3.027344   \n",
       "Zimbabwe                       77.194439        3.738444    1.223848   \n",
       "\n",
       "                    Life Expectancy  Primary School Enrollment  Literacy Rate  \\\n",
       "Country                                                                         \n",
       "Afghanistan               62.775111                 107.580319      37.266041   \n",
       "Algeria                   75.576889                 109.901002      81.407837   \n",
       "Angola                    61.252222                 109.244814      66.030113   \n",
       "Armenia                   74.051000                  99.460075      99.756363   \n",
       "Aruba                     75.678778                 117.817928      97.989998   \n",
       "...                             ...                        ...            ...   \n",
       "Venezuela, RB             72.093889                  98.563437      96.866154   \n",
       "Viet Nam                  74.052444                 111.475478      95.753868   \n",
       "West Bank and Gaza        74.261556                  95.364152      96.710934   \n",
       "Zambia                    61.604111                 100.721525      87.500000   \n",
       "Zimbabwe                  59.999222                  99.378456      88.693420   \n",
       "\n",
       "                    Rural Population  \n",
       "Country                               \n",
       "Afghanistan                74.708667  \n",
       "Algeria                    28.003556  \n",
       "Angola                     35.206333  \n",
       "Armenia                    36.815778  \n",
       "Aruba                      56.650667  \n",
       "...                              ...  \n",
       "Venezuela, RB              11.796556  \n",
       "Viet Nam                   64.776111  \n",
       "West Bank and Gaza         24.089778  \n",
       "Zambia                     57.002000  \n",
       "Zimbabwe                   67.662222  \n",
       "\n",
       "[123 rows x 7 columns]"
      ]
     },
     "execution_count": 14,
     "metadata": {},
     "output_type": "execute_result"
    }
   ],
   "source": [
    "df"
   ]
  },
  {
   "cell_type": "markdown",
   "metadata": {},
   "source": [
    "## Data analysis"
   ]
  },
  {
   "cell_type": "markdown",
   "metadata": {},
   "source": [
    "Create histograms of key variables, and scatterplots to illustrate relationships between them, by adapting my examples in `exer04_ans.ipynb`."
   ]
  },
  {
   "cell_type": "code",
   "execution_count": 15,
   "metadata": {},
   "outputs": [],
   "source": [
    "%matplotlib inline\n",
    "import seaborn;seaborn.set()\n",
    "import matplotlib.pyplot as plt\n",
    "plt.style.use('seaborn-v0_8')\n",
    "import numpy as np\n",
    "import pandas as pd"
   ]
  },
  {
   "cell_type": "code",
   "execution_count": 24,
   "metadata": {},
   "outputs": [
    {
     "data": {
      "image/png": "[encoded data removed]",
      "text/plain": [
       "<Figure size 800x550 with 1 Axes>"
      ]
     },
     "metadata": {},
     "output_type": "display_data"
    }
   ],
   "source": [
    "GDPgrowth = df['GDP Growth']\n",
    "Fertility = df['Fertility Rate']\n",
    "LifeExp = df['Life Expectancy']\n",
    "Rural = df['Rural Population']\n",
    "Dependance = df['Age Dependancy Ratio']\n",
    "\n",
    "# Start a new figure\n",
    "fig = plt.figure()\n",
    "\n",
    "# Plot GDP growth against fertility\n",
    "plt.plot(GDPgrowth, Fertility, 'o', color='black');\n",
    "\n",
    "# Label the axes\n",
    "plt.xlabel('Fertility Rate');\n",
    "plt.ylabel('GDP Growth');"
   ]
  },
  {
   "cell_type": "code",
   "execution_count": 17,
   "metadata": {},
   "outputs": [
    {
     "data": {
      "image/png": "[encoded data removed]",
      "text/plain": [
       "<Figure size 800x550 with 1 Axes>"
      ]
     },
     "metadata": {},
     "output_type": "display_data"
    }
   ],
   "source": [
    "# Start a new figure\n",
    "fig = plt.figure()\n",
    "\n",
    "# Plot GDP growth against life expectancy\n",
    "plt.plot(GDPgrowth, LifeExp, 'o', color='black');\n",
    "\n",
    "# Label the axes\n",
    "plt.xlabel('Life Expectancy');\n",
    "plt.ylabel('GDP Growth');"
   ]
  },
  {
   "cell_type": "code",
   "execution_count": 18,
   "metadata": {},
   "outputs": [
    {
     "data": {
      "image/png": "[encoded data removed]",
      "text/plain": [
       "<Figure size 800x550 with 1 Axes>"
      ]
     },
     "metadata": {},
     "output_type": "display_data"
    }
   ],
   "source": [
    "# Start a new figure\n",
    "fig = plt.figure()\n",
    "\n",
    "# Plot GDP Growth against fertility\n",
    "plt.plot(GDPgrowth, Rural, 'o', color='black');\n",
    "\n",
    "# Label the axes\n",
    "plt.xlabel('Rural Population');\n",
    "plt.ylabel('GDP Growth');"
   ]
  },
  {
   "cell_type": "code",
   "execution_count": 25,
   "metadata": {},
   "outputs": [
    {
     "data": {
      "image/png": "[encoded data removed]",
      "text/plain": [
       "<Figure size 800x550 with 1 Axes>"
      ]
     },
     "metadata": {},
     "output_type": "display_data"
    }
   ],
   "source": [
    "# Start a new figure\n",
    "fig = plt.figure()\n",
    "\n",
    "# Plot GDP Growth against fertility\n",
    "plt.plot(GDPgrowth, Dependance, 'o', color='black');\n",
    "\n",
    "# Label the axes\n",
    "plt.xlabel('Age Dependancy Ratio');\n",
    "plt.ylabel('GDP Growth');"
   ]
  },
  {
   "cell_type": "code",
   "execution_count": 19,
   "metadata": {},
   "outputs": [
    {
     "data": {
      "image/png": "[encoded data removed]",
      "text/plain": [
       "<Figure size 800x550 with 1 Axes>"
      ]
     },
     "metadata": {},
     "output_type": "display_data"
    }
   ],
   "source": [
    "fig = plt.figure()\n",
    "\n",
    "plt.hist(Fertility);\n",
    "plt.xlabel('Fertility Rate');"
   ]
  },
  {
   "cell_type": "code",
   "execution_count": 20,
   "metadata": {},
   "outputs": [
    {
     "data": {
      "image/png": "[encoded data removed]",
      "text/plain": [
       "<Figure size 800x550 with 1 Axes>"
      ]
     },
     "metadata": {},
     "output_type": "display_data"
    }
   ],
   "source": [
    "fig = plt.figure()\n",
    "\n",
    "plt.hist(GDPgrowth);\n",
    "plt.xlabel('GDP Growth');"
   ]
  },
  {
   "cell_type": "code",
   "execution_count": 21,
   "metadata": {},
   "outputs": [
    {
     "data": {
      "image/png": "[encoded data removed]",
      "text/plain": [
       "<Figure size 800x550 with 1 Axes>"
      ]
     },
     "metadata": {},
     "output_type": "display_data"
    }
   ],
   "source": [
    "fig = plt.figure()\n",
    "\n",
    "plt.hist(LifeExp);\n",
    "plt.xlabel('Life Expectancy');"
   ]
  },
  {
   "cell_type": "code",
   "execution_count": 22,
   "metadata": {},
   "outputs": [
    {
     "data": {
      "image/png": "[encoded data removed]",
      "text/plain": [
       "<Figure size 800x550 with 1 Axes>"
      ]
     },
     "metadata": {},
     "output_type": "display_data"
    }
   ],
   "source": [
    "fig = plt.figure()\n",
    "\n",
    "plt.hist(Rural);\n",
    "plt.xlabel('Rural Population');"
   ]
  },
  {
   "cell_type": "code",
   "execution_count": 26,
   "metadata": {},
   "outputs": [
    {
     "data": {
      "image/png": "[encoded data removed]",
      "text/plain": [
       "<Figure size 800x550 with 1 Axes>"
      ]
     },
     "metadata": {},
     "output_type": "display_data"
    }
   ],
   "source": [
    "fig = plt.figure()\n",
    "\n",
    "plt.hist(Dependance);\n",
    "plt.xlabel('Age Dependancy Ratio');"
   ]
  }
 ],
 "metadata": {
  "kernelspec": {
   "display_name": "Python 3 (ipykernel)",
   "language": "python",
   "name": "python3"
  },
  "language_info": {
   "codemirror_mode": {
    "name": "ipython",
    "version": 3
   },
   "file_extension": ".py",
   "mimetype": "text/x-python",
   "name": "python",
   "nbconvert_exporter": "python",
   "pygments_lexer": "ipython3",
   "version": "3.11.5"
  },
  "toc": {
   "base_numbering": 1,
   "nav_menu": {},
   "number_sections": true,
   "sideBar": true,
   "skip_h1_title": false,
   "title_cell": "Table of Contents",
   "title_sidebar": "Contents",
   "toc_cell": false,
   "toc_position": {},
   "toc_section_display": true,
   "toc_window_display": false
  }
 },
 "nbformat": 4,
 "nbformat_minor": 4
}
