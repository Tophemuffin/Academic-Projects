{
 "cells": [
  {
   "cell_type": "markdown",
   "id": "ce3c92d9",
   "metadata": {},
   "source": [
    "## Introduction\n",
    "\n",
    "For most of human history, fertility rates have remained high—well above the 2.1 children per woman needed for replacement. Families were large. This is because, in times where demanding agricultural work was the norm, so too was childhood mortality. The more children a family had, the more likely it was that one or more would survive. However, as education and technology have increased, an interesting demographic phenomenon has emerged. The growth of education and technology has coincided with a decline in family sizes and fertility rates well below the replacement rate. Japan has a fertility rate of 1.39 children per woman, the U.S. 1.84, and Spain 1.29. By contrast, countries like Niger, Angola, and the DRC have fertility rates of 6.73, 5.76, and 5.56, respectively. That is an astonishing difference. It is something not limited to just European or Western countries but also countries like Japan and Taiwan. What is causing this, and why? What could this mean for the future? Such a colossal demographic change could have far-reaching consequences.\n",
    "\n",
    "In 1979, the People’s Republic of China introduced the infamous One-Child Policy. Now, China has started experiencing the consequences of the so-called demographic transition. Most noticeably, the population pyramid has inverted. A once growing and young population is now dying and aging. Already, this has become noticeable in the United States. A glance at the population growth rate shows a plateauing curve, while the average age continues to climb. Still, why should we care? Health insurance premiums and health related expenses could quickly outpace incomes. Social Security, the delicately financed house of cards that it is, could collapse and leave tens of millions of senior citizens and disabled Americans without any support. Moreover, fewer workers might mean higher wages, but also less specialized labor and less access to vital services. Perhaps most importantly, shrinking and altogether disappearing families could have the direst consequences as support systems fall apart and an already atomized society loses its last institution."
   ]
  },
  {
   "cell_type": "markdown",
   "id": "b3ddcab1",
   "metadata": {},
   "source": [
    "## Data"
   ]
  },
  {
   "cell_type": "markdown",
   "id": "bacc0cc3",
   "metadata": {},
   "source": [
    "| **Variable**              | **Definition**                                                                                                                                                           | **Units**                             |\n",
    "|---------------------------|--------------------------------------------------------------------------------------------------------------------------------------------------------------------------|---------------------------------------|\n",
    "| Age Dependency Ratio      | The ratio of dependents--people younger than 15 or older than 64--to the working-age population--those ages 15-64                                                        | Dependents/100 Working-Age Population |\n",
    "| Fertility Rate            | The average number of children born to a woman over her lifetime.                                                                                                        | Children/Woman                        |\n",
    "| GDP Growth                | The average annual rate of change of the GDP in a given economy over one year.                                                                                           | % of Previous Year's GDP              |\n",
    "| Life Expectancy           | The average period of years that a person in a given country may expect to live.                                                                                         | Years                                 |\n",
    "| Primary School Enrollment | The number of children of official primary school age who are enrolled in primary education as a percentage of the total children of the official school age population. | % of School Age Population            |\n",
    "| Literacy Rate             | The proportion of the adult population aged 15 years and over which is literate, expressed as a percentage of the corresponding population.                              | % of Total Population                 |\n",
    "| Rural Population          | Rural population refers to people living in rural areas as defined by national statistical offices.                                                                      | % of Total Population                 |"
   ]
  },
  {
   "cell_type": "code",
   "execution_count": 1,
   "id": "9025d669",
   "metadata": {},
   "outputs": [],
   "source": [
    "%matplotlib inline\n",
    "import matplotlib.pyplot as plt\n",
    "%config InlineBackend.figure_format = 'retina'\n",
    "plt.style.use('ggplot')\n",
    "import numpy as np\n",
    "import pandas as pd"
   ]
  },
  {
   "cell_type": "code",
   "execution_count": 5,
   "id": "3db2671a",
   "metadata": {},
   "outputs": [
    {
     "data": {
      "text/html": [
       "<div>\n",
       "<style scoped>\n",
       "    .dataframe tbody tr th:only-of-type {\n",
       "        vertical-align: middle;\n",
       "    }\n",
       "\n",
       "    .dataframe tbody tr th {\n",
       "        vertical-align: top;\n",
       "    }\n",
       "\n",
       "    .dataframe thead th {\n",
       "        text-align: right;\n",
       "    }\n",
       "</style>\n",
       "<table border=\"1\" class=\"dataframe\">\n",
       "  <thead>\n",
       "    <tr style=\"text-align: right;\">\n",
       "      <th></th>\n",
       "      <th>Country Name</th>\n",
       "      <th>Country Code</th>\n",
       "      <th>Time</th>\n",
       "      <th>Time Code</th>\n",
       "      <th>Age dependency ratio, young (% of working-age population) [SP.POP.DPND.YG]</th>\n",
       "      <th>Fertility rate, total (births per woman) [SP.DYN.TFRT.IN]</th>\n",
       "      <th>GDP growth (annual %) [NY.GDP.MKTP.KD.ZG]</th>\n",
       "      <th>Life expectancy at birth, total (years) [SP.DYN.LE00.IN]</th>\n",
       "      <th>School enrollment, primary (% gross) [SE.PRM.ENRR]</th>\n",
       "      <th>Literacy rate, adult total (% of people ages 15 and above) [SE.ADT.LITR.ZS]</th>\n",
       "      <th>Rural population (% of total population) [SP.RUR.TOTL.ZS]</th>\n",
       "    </tr>\n",
       "  </thead>\n",
       "  <tbody>\n",
       "    <tr>\n",
       "      <th>0</th>\n",
       "      <td>Afghanistan</td>\n",
       "      <td>AFG</td>\n",
       "      <td>2013.0</td>\n",
       "      <td>YR2013</td>\n",
       "      <td>92.388046</td>\n",
       "      <td>5.696</td>\n",
       "      <td>5.60074465808154</td>\n",
       "      <td>62.417</td>\n",
       "      <td>107.695976257324</td>\n",
       "      <td>..</td>\n",
       "      <td>75.627</td>\n",
       "    </tr>\n",
       "    <tr>\n",
       "      <th>1</th>\n",
       "      <td>Afghanistan</td>\n",
       "      <td>AFG</td>\n",
       "      <td>2014.0</td>\n",
       "      <td>YR2014</td>\n",
       "      <td>90.015900</td>\n",
       "      <td>5.56</td>\n",
       "      <td>2.72454336394854</td>\n",
       "      <td>62.545</td>\n",
       "      <td>109.115516662598</td>\n",
       "      <td>..</td>\n",
       "      <td>75.413</td>\n",
       "    </tr>\n",
       "    <tr>\n",
       "      <th>2</th>\n",
       "      <td>Afghanistan</td>\n",
       "      <td>AFG</td>\n",
       "      <td>2015.0</td>\n",
       "      <td>YR2015</td>\n",
       "      <td>88.398202</td>\n",
       "      <td>5.405</td>\n",
       "      <td>1.45131466009755</td>\n",
       "      <td>62.659</td>\n",
       "      <td>106.182418823242</td>\n",
       "      <td>..</td>\n",
       "      <td>75.197</td>\n",
       "    </tr>\n",
       "    <tr>\n",
       "      <th>3</th>\n",
       "      <td>Afghanistan</td>\n",
       "      <td>AFG</td>\n",
       "      <td>2016.0</td>\n",
       "      <td>YR2016</td>\n",
       "      <td>87.405774</td>\n",
       "      <td>5.262</td>\n",
       "      <td>2.26031420130452</td>\n",
       "      <td>63.136</td>\n",
       "      <td>106.150283813477</td>\n",
       "      <td>..</td>\n",
       "      <td>74.98</td>\n",
       "    </tr>\n",
       "    <tr>\n",
       "      <th>4</th>\n",
       "      <td>Afghanistan</td>\n",
       "      <td>AFG</td>\n",
       "      <td>2017.0</td>\n",
       "      <td>YR2017</td>\n",
       "      <td>85.970407</td>\n",
       "      <td>5.129</td>\n",
       "      <td>2.64700320195786</td>\n",
       "      <td>63.016</td>\n",
       "      <td>106.129997253418</td>\n",
       "      <td>..</td>\n",
       "      <td>74.75</td>\n",
       "    </tr>\n",
       "  </tbody>\n",
       "</table>\n",
       "</div>"
      ],
      "text/plain": [
       "  Country Name Country Code    Time Time Code  \\\n",
       "0  Afghanistan          AFG  2013.0    YR2013   \n",
       "1  Afghanistan          AFG  2014.0    YR2014   \n",
       "2  Afghanistan          AFG  2015.0    YR2015   \n",
       "3  Afghanistan          AFG  2016.0    YR2016   \n",
       "4  Afghanistan          AFG  2017.0    YR2017   \n",
       "\n",
       "   Age dependency ratio, young (% of working-age population) [SP.POP.DPND.YG]  \\\n",
       "0                                          92.388046                            \n",
       "1                                          90.015900                            \n",
       "2                                          88.398202                            \n",
       "3                                          87.405774                            \n",
       "4                                          85.970407                            \n",
       "\n",
       "  Fertility rate, total (births per woman) [SP.DYN.TFRT.IN]  \\\n",
       "0                                              5.696          \n",
       "1                                               5.56          \n",
       "2                                              5.405          \n",
       "3                                              5.262          \n",
       "4                                              5.129          \n",
       "\n",
       "  GDP growth (annual %) [NY.GDP.MKTP.KD.ZG]  \\\n",
       "0                          5.60074465808154   \n",
       "1                          2.72454336394854   \n",
       "2                          1.45131466009755   \n",
       "3                          2.26031420130452   \n",
       "4                          2.64700320195786   \n",
       "\n",
       "  Life expectancy at birth, total (years) [SP.DYN.LE00.IN]  \\\n",
       "0                                             62.417         \n",
       "1                                             62.545         \n",
       "2                                             62.659         \n",
       "3                                             63.136         \n",
       "4                                             63.016         \n",
       "\n",
       "  School enrollment, primary (% gross) [SE.PRM.ENRR]  \\\n",
       "0                                   107.695976257324   \n",
       "1                                   109.115516662598   \n",
       "2                                   106.182418823242   \n",
       "3                                   106.150283813477   \n",
       "4                                   106.129997253418   \n",
       "\n",
       "  Literacy rate, adult total (% of people ages 15 and above) [SE.ADT.LITR.ZS]  \\\n",
       "0                                                 ..                            \n",
       "1                                                 ..                            \n",
       "2                                                 ..                            \n",
       "3                                                 ..                            \n",
       "4                                                 ..                            \n",
       "\n",
       "  Rural population (% of total population) [SP.RUR.TOTL.ZS]  \n",
       "0                                             75.627         \n",
       "1                                             75.413         \n",
       "2                                             75.197         \n",
       "3                                              74.98         \n",
       "4                                              74.75         "
      ]
     },
     "execution_count": 5,
     "metadata": {},
     "output_type": "execute_result"
    }
   ],
   "source": [
    "data = pd.read_csv('data/Demographics.csv')\n",
    "data.head()"
   ]
  },
  {
   "cell_type": "code",
   "execution_count": 8,
   "id": "0ea19ed3",
   "metadata": {},
   "outputs": [
    {
     "ename": "TypeError",
     "evalue": "'value' must be an instance of str or bytes, not a float",
     "output_type": "error",
     "traceback": [
      "\u001b[0;31m---------------------------------------------------------------------------\u001b[0m",
      "\u001b[0;31mTypeError\u001b[0m                                 Traceback (most recent call last)",
      "Cell \u001b[0;32mIn[8], line 8\u001b[0m\n\u001b[1;32m      5\u001b[0m fig \u001b[38;5;241m=\u001b[39m plt\u001b[38;5;241m.\u001b[39mfigure()\n\u001b[1;32m      7\u001b[0m \u001b[38;5;66;03m# Plot salary against sales\u001b[39;00m\n\u001b[0;32m----> 8\u001b[0m plt\u001b[38;5;241m.\u001b[39mplot(GDPgrowth, Fertility, \u001b[38;5;124m'\u001b[39m\u001b[38;5;124mo\u001b[39m\u001b[38;5;124m'\u001b[39m, color\u001b[38;5;241m=\u001b[39m\u001b[38;5;124m'\u001b[39m\u001b[38;5;124mblack\u001b[39m\u001b[38;5;124m'\u001b[39m);\n\u001b[1;32m     10\u001b[0m \u001b[38;5;66;03m# Label the axes\u001b[39;00m\n\u001b[1;32m     11\u001b[0m plt\u001b[38;5;241m.\u001b[39mxlabel(\u001b[38;5;124m'\u001b[39m\u001b[38;5;124mFertility-Rate\u001b[39m\u001b[38;5;124m'\u001b[39m);\n",
      "File \u001b[0;32m~/miniconda3/lib/python3.11/site-packages/matplotlib/pyplot.py:3578\u001b[0m, in \u001b[0;36mplot\u001b[0;34m(scalex, scaley, data, *args, **kwargs)\u001b[0m\n\u001b[1;32m   3570\u001b[0m \u001b[38;5;129m@_copy_docstring_and_deprecators\u001b[39m(Axes\u001b[38;5;241m.\u001b[39mplot)\n\u001b[1;32m   3571\u001b[0m \u001b[38;5;28;01mdef\u001b[39;00m \u001b[38;5;21mplot\u001b[39m(\n\u001b[1;32m   3572\u001b[0m     \u001b[38;5;241m*\u001b[39margs: \u001b[38;5;28mfloat\u001b[39m \u001b[38;5;241m|\u001b[39m ArrayLike \u001b[38;5;241m|\u001b[39m \u001b[38;5;28mstr\u001b[39m,\n\u001b[0;32m   (...)\u001b[0m\n\u001b[1;32m   3576\u001b[0m     \u001b[38;5;241m*\u001b[39m\u001b[38;5;241m*\u001b[39mkwargs,\n\u001b[1;32m   3577\u001b[0m ) \u001b[38;5;241m-\u001b[39m\u001b[38;5;241m>\u001b[39m \u001b[38;5;28mlist\u001b[39m[Line2D]:\n\u001b[0;32m-> 3578\u001b[0m     \u001b[38;5;28;01mreturn\u001b[39;00m gca()\u001b[38;5;241m.\u001b[39mplot(\n\u001b[1;32m   3579\u001b[0m         \u001b[38;5;241m*\u001b[39margs,\n\u001b[1;32m   3580\u001b[0m         scalex\u001b[38;5;241m=\u001b[39mscalex,\n\u001b[1;32m   3581\u001b[0m         scaley\u001b[38;5;241m=\u001b[39mscaley,\n\u001b[1;32m   3582\u001b[0m         \u001b[38;5;241m*\u001b[39m\u001b[38;5;241m*\u001b[39m({\u001b[38;5;124m\"\u001b[39m\u001b[38;5;124mdata\u001b[39m\u001b[38;5;124m\"\u001b[39m: data} \u001b[38;5;28;01mif\u001b[39;00m data \u001b[38;5;129;01mis\u001b[39;00m \u001b[38;5;129;01mnot\u001b[39;00m \u001b[38;5;28;01mNone\u001b[39;00m \u001b[38;5;28;01melse\u001b[39;00m {}),\n\u001b[1;32m   3583\u001b[0m         \u001b[38;5;241m*\u001b[39m\u001b[38;5;241m*\u001b[39mkwargs,\n\u001b[1;32m   3584\u001b[0m     )\n",
      "File \u001b[0;32m~/miniconda3/lib/python3.11/site-packages/matplotlib/axes/_axes.py:1721\u001b[0m, in \u001b[0;36mAxes.plot\u001b[0;34m(self, scalex, scaley, data, *args, **kwargs)\u001b[0m\n\u001b[1;32m   1478\u001b[0m \u001b[38;5;250m\u001b[39m\u001b[38;5;124;03m\"\"\"\u001b[39;00m\n\u001b[1;32m   1479\u001b[0m \u001b[38;5;124;03mPlot y versus x as lines and/or markers.\u001b[39;00m\n\u001b[1;32m   1480\u001b[0m \n\u001b[0;32m   (...)\u001b[0m\n\u001b[1;32m   1718\u001b[0m \u001b[38;5;124;03m(``'green'``) or hex strings (``'#008000'``).\u001b[39;00m\n\u001b[1;32m   1719\u001b[0m \u001b[38;5;124;03m\"\"\"\u001b[39;00m\n\u001b[1;32m   1720\u001b[0m kwargs \u001b[38;5;241m=\u001b[39m cbook\u001b[38;5;241m.\u001b[39mnormalize_kwargs(kwargs, mlines\u001b[38;5;241m.\u001b[39mLine2D)\n\u001b[0;32m-> 1721\u001b[0m lines \u001b[38;5;241m=\u001b[39m [\u001b[38;5;241m*\u001b[39m\u001b[38;5;28mself\u001b[39m\u001b[38;5;241m.\u001b[39m_get_lines(\u001b[38;5;28mself\u001b[39m, \u001b[38;5;241m*\u001b[39margs, data\u001b[38;5;241m=\u001b[39mdata, \u001b[38;5;241m*\u001b[39m\u001b[38;5;241m*\u001b[39mkwargs)]\n\u001b[1;32m   1722\u001b[0m \u001b[38;5;28;01mfor\u001b[39;00m line \u001b[38;5;129;01min\u001b[39;00m lines:\n\u001b[1;32m   1723\u001b[0m     \u001b[38;5;28mself\u001b[39m\u001b[38;5;241m.\u001b[39madd_line(line)\n",
      "File \u001b[0;32m~/miniconda3/lib/python3.11/site-packages/matplotlib/axes/_base.py:303\u001b[0m, in \u001b[0;36m_process_plot_var_args.__call__\u001b[0;34m(self, axes, data, *args, **kwargs)\u001b[0m\n\u001b[1;32m    301\u001b[0m     this \u001b[38;5;241m+\u001b[39m\u001b[38;5;241m=\u001b[39m args[\u001b[38;5;241m0\u001b[39m],\n\u001b[1;32m    302\u001b[0m     args \u001b[38;5;241m=\u001b[39m args[\u001b[38;5;241m1\u001b[39m:]\n\u001b[0;32m--> 303\u001b[0m \u001b[38;5;28;01myield from\u001b[39;00m \u001b[38;5;28mself\u001b[39m\u001b[38;5;241m.\u001b[39m_plot_args(\n\u001b[1;32m    304\u001b[0m     axes, this, kwargs, ambiguous_fmt_datakey\u001b[38;5;241m=\u001b[39mambiguous_fmt_datakey)\n",
      "File \u001b[0;32m~/miniconda3/lib/python3.11/site-packages/matplotlib/axes/_base.py:494\u001b[0m, in \u001b[0;36m_process_plot_var_args._plot_args\u001b[0;34m(self, axes, tup, kwargs, return_kwargs, ambiguous_fmt_datakey)\u001b[0m\n\u001b[1;32m    491\u001b[0m     x, y \u001b[38;5;241m=\u001b[39m index_of(xy[\u001b[38;5;241m-\u001b[39m\u001b[38;5;241m1\u001b[39m])\n\u001b[1;32m    493\u001b[0m \u001b[38;5;28;01mif\u001b[39;00m axes\u001b[38;5;241m.\u001b[39mxaxis \u001b[38;5;129;01mis\u001b[39;00m \u001b[38;5;129;01mnot\u001b[39;00m \u001b[38;5;28;01mNone\u001b[39;00m:\n\u001b[0;32m--> 494\u001b[0m     axes\u001b[38;5;241m.\u001b[39mxaxis\u001b[38;5;241m.\u001b[39mupdate_units(x)\n\u001b[1;32m    495\u001b[0m \u001b[38;5;28;01mif\u001b[39;00m axes\u001b[38;5;241m.\u001b[39myaxis \u001b[38;5;129;01mis\u001b[39;00m \u001b[38;5;129;01mnot\u001b[39;00m \u001b[38;5;28;01mNone\u001b[39;00m:\n\u001b[1;32m    496\u001b[0m     axes\u001b[38;5;241m.\u001b[39myaxis\u001b[38;5;241m.\u001b[39mupdate_units(y)\n",
      "File \u001b[0;32m~/miniconda3/lib/python3.11/site-packages/matplotlib/axis.py:1712\u001b[0m, in \u001b[0;36mAxis.update_units\u001b[0;34m(self, data)\u001b[0m\n\u001b[1;32m   1710\u001b[0m neednew \u001b[38;5;241m=\u001b[39m \u001b[38;5;28mself\u001b[39m\u001b[38;5;241m.\u001b[39mconverter \u001b[38;5;241m!=\u001b[39m converter\n\u001b[1;32m   1711\u001b[0m \u001b[38;5;28mself\u001b[39m\u001b[38;5;241m.\u001b[39mconverter \u001b[38;5;241m=\u001b[39m converter\n\u001b[0;32m-> 1712\u001b[0m default \u001b[38;5;241m=\u001b[39m \u001b[38;5;28mself\u001b[39m\u001b[38;5;241m.\u001b[39mconverter\u001b[38;5;241m.\u001b[39mdefault_units(data, \u001b[38;5;28mself\u001b[39m)\n\u001b[1;32m   1713\u001b[0m \u001b[38;5;28;01mif\u001b[39;00m default \u001b[38;5;129;01mis\u001b[39;00m \u001b[38;5;129;01mnot\u001b[39;00m \u001b[38;5;28;01mNone\u001b[39;00m \u001b[38;5;129;01mand\u001b[39;00m \u001b[38;5;28mself\u001b[39m\u001b[38;5;241m.\u001b[39munits \u001b[38;5;129;01mis\u001b[39;00m \u001b[38;5;28;01mNone\u001b[39;00m:\n\u001b[1;32m   1714\u001b[0m     \u001b[38;5;28mself\u001b[39m\u001b[38;5;241m.\u001b[39mset_units(default)\n",
      "File \u001b[0;32m~/miniconda3/lib/python3.11/site-packages/matplotlib/category.py:105\u001b[0m, in \u001b[0;36mStrCategoryConverter.default_units\u001b[0;34m(data, axis)\u001b[0m\n\u001b[1;32m    103\u001b[0m \u001b[38;5;66;03m# the conversion call stack is default_units -> axis_info -> convert\u001b[39;00m\n\u001b[1;32m    104\u001b[0m \u001b[38;5;28;01mif\u001b[39;00m axis\u001b[38;5;241m.\u001b[39munits \u001b[38;5;129;01mis\u001b[39;00m \u001b[38;5;28;01mNone\u001b[39;00m:\n\u001b[0;32m--> 105\u001b[0m     axis\u001b[38;5;241m.\u001b[39mset_units(UnitData(data))\n\u001b[1;32m    106\u001b[0m \u001b[38;5;28;01melse\u001b[39;00m:\n\u001b[1;32m    107\u001b[0m     axis\u001b[38;5;241m.\u001b[39munits\u001b[38;5;241m.\u001b[39mupdate(data)\n",
      "File \u001b[0;32m~/miniconda3/lib/python3.11/site-packages/matplotlib/category.py:181\u001b[0m, in \u001b[0;36mUnitData.__init__\u001b[0;34m(self, data)\u001b[0m\n\u001b[1;32m    179\u001b[0m \u001b[38;5;28mself\u001b[39m\u001b[38;5;241m.\u001b[39m_counter \u001b[38;5;241m=\u001b[39m itertools\u001b[38;5;241m.\u001b[39mcount()\n\u001b[1;32m    180\u001b[0m \u001b[38;5;28;01mif\u001b[39;00m data \u001b[38;5;129;01mis\u001b[39;00m \u001b[38;5;129;01mnot\u001b[39;00m \u001b[38;5;28;01mNone\u001b[39;00m:\n\u001b[0;32m--> 181\u001b[0m     \u001b[38;5;28mself\u001b[39m\u001b[38;5;241m.\u001b[39mupdate(data)\n",
      "File \u001b[0;32m~/miniconda3/lib/python3.11/site-packages/matplotlib/category.py:216\u001b[0m, in \u001b[0;36mUnitData.update\u001b[0;34m(self, data)\u001b[0m\n\u001b[1;32m    213\u001b[0m convertible \u001b[38;5;241m=\u001b[39m \u001b[38;5;28;01mTrue\u001b[39;00m\n\u001b[1;32m    214\u001b[0m \u001b[38;5;28;01mfor\u001b[39;00m val \u001b[38;5;129;01min\u001b[39;00m OrderedDict\u001b[38;5;241m.\u001b[39mfromkeys(data):\n\u001b[1;32m    215\u001b[0m     \u001b[38;5;66;03m# OrderedDict just iterates over unique values in data.\u001b[39;00m\n\u001b[0;32m--> 216\u001b[0m     _api\u001b[38;5;241m.\u001b[39mcheck_isinstance((\u001b[38;5;28mstr\u001b[39m, \u001b[38;5;28mbytes\u001b[39m), value\u001b[38;5;241m=\u001b[39mval)\n\u001b[1;32m    217\u001b[0m     \u001b[38;5;28;01mif\u001b[39;00m convertible:\n\u001b[1;32m    218\u001b[0m         \u001b[38;5;66;03m# this will only be called so long as convertible is True.\u001b[39;00m\n\u001b[1;32m    219\u001b[0m         convertible \u001b[38;5;241m=\u001b[39m \u001b[38;5;28mself\u001b[39m\u001b[38;5;241m.\u001b[39m_str_is_convertible(val)\n",
      "File \u001b[0;32m~/miniconda3/lib/python3.11/site-packages/matplotlib/_api/__init__.py:91\u001b[0m, in \u001b[0;36mcheck_isinstance\u001b[0;34m(types, **kwargs)\u001b[0m\n\u001b[1;32m     89\u001b[0m     names\u001b[38;5;241m.\u001b[39mremove(\u001b[38;5;124m\"\u001b[39m\u001b[38;5;124mNone\u001b[39m\u001b[38;5;124m\"\u001b[39m)\n\u001b[1;32m     90\u001b[0m     names\u001b[38;5;241m.\u001b[39mappend(\u001b[38;5;124m\"\u001b[39m\u001b[38;5;124mNone\u001b[39m\u001b[38;5;124m\"\u001b[39m)\n\u001b[0;32m---> 91\u001b[0m \u001b[38;5;28;01mraise\u001b[39;00m \u001b[38;5;167;01mTypeError\u001b[39;00m(\n\u001b[1;32m     92\u001b[0m     \u001b[38;5;124m\"\u001b[39m\u001b[38;5;132;01m{!r}\u001b[39;00m\u001b[38;5;124m must be an instance of \u001b[39m\u001b[38;5;132;01m{}\u001b[39;00m\u001b[38;5;124m, not a \u001b[39m\u001b[38;5;132;01m{}\u001b[39;00m\u001b[38;5;124m\"\u001b[39m\u001b[38;5;241m.\u001b[39mformat(\n\u001b[1;32m     93\u001b[0m         k,\n\u001b[1;32m     94\u001b[0m         \u001b[38;5;124m\"\u001b[39m\u001b[38;5;124m, \u001b[39m\u001b[38;5;124m\"\u001b[39m\u001b[38;5;241m.\u001b[39mjoin(names[:\u001b[38;5;241m-\u001b[39m\u001b[38;5;241m1\u001b[39m]) \u001b[38;5;241m+\u001b[39m \u001b[38;5;124m\"\u001b[39m\u001b[38;5;124m or \u001b[39m\u001b[38;5;124m\"\u001b[39m \u001b[38;5;241m+\u001b[39m names[\u001b[38;5;241m-\u001b[39m\u001b[38;5;241m1\u001b[39m]\n\u001b[1;32m     95\u001b[0m         \u001b[38;5;28;01mif\u001b[39;00m \u001b[38;5;28mlen\u001b[39m(names) \u001b[38;5;241m>\u001b[39m \u001b[38;5;241m1\u001b[39m \u001b[38;5;28;01melse\u001b[39;00m names[\u001b[38;5;241m0\u001b[39m],\n\u001b[1;32m     96\u001b[0m         type_name(\u001b[38;5;28mtype\u001b[39m(v))))\n",
      "\u001b[0;31mTypeError\u001b[0m: 'value' must be an instance of str or bytes, not a float"
     ]
    },
    {
     "data": {
      "image/png": "[encoded data removed]",
      "text/plain": [
       "<Figure size 640x480 with 1 Axes>"
      ]
     },
     "metadata": {
      "image/png": {
       "height": 418,
       "width": 558
      }
     },
     "output_type": "display_data"
    }
   ],
   "source": [
    "GDPgrowth = data['GDP growth (annual %) [NY.GDP.MKTP.KD.ZG]']\n",
    "Fertility = data['Fertility rate, total (births per woman) [SP.DYN.TFRT.IN]']\n",
    "\n",
    "# Start a new figure\n",
    "fig = plt.figure()\n",
    "\n",
    "# Plot salary against sales\n",
    "plt.plot(GDPgrowth, Fertility, 'o', color='black');\n",
    "\n",
    "# Label the axes\n",
    "plt.xlabel('Fertility-Rate');\n",
    "plt.ylabel('GDP-Growth');"
   ]
  },
  {
   "cell_type": "code",
   "execution_count": null,
   "id": "6cb66de1",
   "metadata": {},
   "outputs": [],
   "source": [
    "# Start a new figure\n",
    "fig = plt.figure()\n",
    "\n",
    "# Plot a simple histogram of the ROE variable, \n",
    "# using default options\n",
    "plt.hist(GDPG);\n",
    "plt.xlabel('Fertility-Rate');"
   ]
  }
 ],
 "metadata": {
  "kernelspec": {
   "display_name": "Python 3 (ipykernel)",
   "language": "python",
   "name": "python3"
  },
  "language_info": {
   "codemirror_mode": {
    "name": "ipython",
    "version": 3
   },
   "file_extension": ".py",
   "mimetype": "text/x-python",
   "name": "python",
   "nbconvert_exporter": "python",
   "pygments_lexer": "ipython3",
   "version": "3.11.5"
  }
 },
 "nbformat": 4,
 "nbformat_minor": 5
}
